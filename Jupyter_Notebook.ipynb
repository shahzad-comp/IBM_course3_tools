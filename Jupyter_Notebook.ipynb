{
 "cells": [
  {
   "cell_type": "markdown",
   "metadata": {},
   "source": [
    "<center>\n",
    "    <img src=\"https://s3-api.us-geo.objectstorage.softlayer.net/cf-courses-data/CognitiveClass/Logos/organization_logo/organization_logo.png\" width=\"300\" alt=\"cognitiveclass.ai logo\"  />\n",
    "</center>\n"
   ]
  },
  {
   "cell_type": "markdown",
   "metadata": {},
   "source": [
    "#### Add your code below following the instructions given in the course\n"
   ]
  },
  {
   "cell_type": "markdown",
   "metadata": {
    "ExecuteTime": {
     "end_time": "2022-09-11T08:37:56.083447Z",
     "start_time": "2022-09-11T08:37:56.073545Z"
    }
   },
   "source": [
    "<h1>My Jupyter Notebook</h1>"
   ]
  },
  {
   "cell_type": "markdown",
   "metadata": {
    "ExecuteTime": {
     "end_time": "2022-09-11T08:38:49.239472Z",
     "start_time": "2022-09-11T08:38:49.224448Z"
    }
   },
   "source": [
    "**Shahzad Alam**<br>\n",
    "Data Scientist"
   ]
  },
  {
   "cell_type": "markdown",
   "metadata": {
    "ExecuteTime": {
     "end_time": "2022-09-11T08:41:35.896178Z",
     "start_time": "2022-09-11T08:41:35.887955Z"
    }
   },
   "source": [
    "*I'am interested in Data Science because I like how to predict future values from previus data, \n",
    "detect objects from image which only humans can do and make machines do what humans can do*"
   ]
  },
  {
   "cell_type": "markdown",
   "metadata": {},
   "source": [
    "<h6>The below cell will print Hello Data Science</h6>"
   ]
  },
  {
   "cell_type": "code",
   "execution_count": 4,
   "metadata": {
    "ExecuteTime": {
     "end_time": "2022-09-11T08:43:30.708374Z",
     "start_time": "2022-09-11T08:43:30.699880Z"
    }
   },
   "outputs": [
    {
     "name": "stdout",
     "output_type": "stream",
     "text": [
      "Hello Data Science\n"
     ]
    }
   ],
   "source": [
    "print(\"Hello Data Science\")"
   ]
  },
  {
   "cell_type": "markdown",
   "metadata": {},
   "source": [
    "<hr style=\"color:black; background-color:black; height:2px\" >\n",
    "\n",
    "Data Science Languages\n",
    "<ul>\n",
    "    <li>Python</li>\n",
    "    <li>R</li>\n",
    "</ul>    \n",
    "\n",
    "\n",
    "<br>\n",
    "\n",
    "Data Science Tools\n",
    "<ol>\n",
    "    <li>Jupyter-lab</li>\n",
    "    <li>Watson Studio</li>\n",
    "</ol> "
   ]
  },
  {
   "cell_type": "code",
   "execution_count": null,
   "metadata": {},
   "outputs": [],
   "source": []
  }
 ],
 "metadata": {
  "kernelspec": {
   "display_name": "Python 3 (ipykernel)",
   "language": "python",
   "name": "python3"
  },
  "language_info": {
   "codemirror_mode": {
    "name": "ipython",
    "version": 3
   },
   "file_extension": ".py",
   "mimetype": "text/x-python",
   "name": "python",
   "nbconvert_exporter": "python",
   "pygments_lexer": "ipython3",
   "version": "3.8.5"
  }
 },
 "nbformat": 4,
 "nbformat_minor": 4
}
